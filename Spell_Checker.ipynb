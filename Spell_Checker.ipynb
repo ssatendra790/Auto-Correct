{
  "nbformat": 4,
  "nbformat_minor": 0,
  "metadata": {
    "colab": {
      "provenance": [],
      "authorship_tag": "ABX9TyOiPC3leWihjflNrAVyy59O",
      "include_colab_link": true
    },
    "kernelspec": {
      "name": "python3",
      "display_name": "Python 3"
    },
    "language_info": {
      "name": "python"
    }
  },
  "cells": [
    {
      "cell_type": "markdown",
      "metadata": {
        "id": "view-in-github",
        "colab_type": "text"
      },
      "source": [
        "<a href=\"https://colab.research.google.com/github/ssatendra790/Auto-Correct-Spelling-Checker/blob/main/Spell_Checker.ipynb\" target=\"_parent\"><img src=\"https://colab.research.google.com/assets/colab-badge.svg\" alt=\"Open In Colab\"/></a>"
      ]
    },
    {
      "cell_type": "markdown",
      "source": [
        "**AUTO CORRECT SPELLING CHECKER**\\\n",
        "-\\\n",
        "-\\\n",
        "-\n",
        "\n",
        "**Identify a mispelled word**\\\n",
        "A word is mispelled if it is not found in the vocabulary of the corpus of text the autocorrect system is working with\\\n",
        "-\\\n",
        "-\\\n",
        "-\\\n",
        "-"
      ],
      "metadata": {
        "id": "qA5FlaGd91Bc"
      }
    },
    {
      "cell_type": "code",
      "source": [
        "import re\n",
        "import string\n",
        "from collections import Counter\n",
        "import numpy as np"
      ],
      "metadata": {
        "id": "csXTpbm790aO"
      },
      "execution_count": 2,
      "outputs": []
    },
    {
      "cell_type": "code",
      "source": [
        "def read_corpus(filename):\n",
        "  with open(filename, \"r\") as file:\n",
        "    lines = file.readlines()\n",
        "    words = []\n",
        "\n",
        "    for line in lines:\n",
        "      words += re.findall(r'\\w+',line.lower())\n",
        "\n",
        "  return words"
      ],
      "metadata": {
        "id": "TdqojhZCb3w2"
      },
      "execution_count": 3,
      "outputs": []
    },
    {
      "cell_type": "code",
      "source": [
        "words = read_corpus(\"./bigf.txt\")\n",
        "print(f\"There are {len(words)} total words in the corpus\")"
      ],
      "metadata": {
        "colab": {
          "base_uri": "https://localhost:8080/"
        },
        "id": "LPgN6MpqiOST",
        "outputId": "f6920f20-1dd8-42cf-c0e9-ddad512f7814"
      },
      "execution_count": 11,
      "outputs": [
        {
          "output_type": "stream",
          "name": "stdout",
          "text": [
            "There are 4893393 total words in the corpus\n"
          ]
        }
      ]
    },
    {
      "cell_type": "code",
      "source": [
        "vocabs = set(words)\n",
        "print(f\"There are {len(vocabs)} unique words in the vocabulary\")"
      ],
      "metadata": {
        "colab": {
          "base_uri": "https://localhost:8080/"
        },
        "id": "48xOa_snjqEI",
        "outputId": "4ed38f11-9bcf-4901-d9ee-fe7e2f1e0a3b"
      },
      "execution_count": 12,
      "outputs": [
        {
          "output_type": "stream",
          "name": "stdout",
          "text": [
            "There are 186347 unique words in the vocabulary\n"
          ]
        }
      ]
    },
    {
      "cell_type": "code",
      "source": [
        "word_counts = Counter(words)\n",
        "print(word_counts[\"the\"])"
      ],
      "metadata": {
        "colab": {
          "base_uri": "https://localhost:8080/"
        },
        "id": "VvMjGI3zj59k",
        "outputId": "d28dd945-b8ee-4db2-fb5a-3a1508304fc9"
      },
      "execution_count": 13,
      "outputs": [
        {
          "output_type": "stream",
          "name": "stdout",
          "text": [
            "274722\n"
          ]
        }
      ]
    },
    {
      "cell_type": "code",
      "source": [
        "total_word_count = float(sum(word_counts.values()))\n",
        "word_probas = {word: word_counts[word] / total_word_count for word in word_counts.keys()}"
      ],
      "metadata": {
        "id": "9JStvJV4kRzp"
      },
      "execution_count": 14,
      "outputs": []
    },
    {
      "cell_type": "code",
      "source": [
        "print(word_probas[\"the\"])"
      ],
      "metadata": {
        "colab": {
          "base_uri": "https://localhost:8080/"
        },
        "id": "5dnzUr5mkzRD",
        "outputId": "3821a121-250a-46e7-ba2f-5c09c892311b"
      },
      "execution_count": 15,
      "outputs": [
        {
          "output_type": "stream",
          "name": "stdout",
          "text": [
            "0.05614141353453524\n"
          ]
        }
      ]
    },
    {
      "cell_type": "code",
      "source": [
        "def split(word):\n",
        "  return [(word[:i], word[i:]) for i in range(len(word) + 1)]"
      ],
      "metadata": {
        "id": "sBhRdcmHoCpb"
      },
      "execution_count": 17,
      "outputs": []
    },
    {
      "cell_type": "code",
      "source": [
        "print(split(\"satendra\"))"
      ],
      "metadata": {
        "colab": {
          "base_uri": "https://localhost:8080/"
        },
        "id": "48DOYSc9oy3b",
        "outputId": "e9208dfe-80c7-47da-8700-b280db0d4cca"
      },
      "execution_count": 19,
      "outputs": [
        {
          "output_type": "stream",
          "name": "stdout",
          "text": [
            "[('', 'satendra'), ('s', 'atendra'), ('sa', 'tendra'), ('sat', 'endra'), ('sate', 'ndra'), ('saten', 'dra'), ('satend', 'ra'), ('satendr', 'a'), ('satendra', '')]\n"
          ]
        }
      ]
    },
    {
      "cell_type": "code",
      "source": [
        "def delete(word):\n",
        "  return [l + r[1:] for l,r in split(word) if r]"
      ],
      "metadata": {
        "id": "myuNWAGFo_I9"
      },
      "execution_count": 20,
      "outputs": []
    },
    {
      "cell_type": "code",
      "source": [
        "print(delete(\"satendra\"))"
      ],
      "metadata": {
        "colab": {
          "base_uri": "https://localhost:8080/"
        },
        "id": "ZxvUE82VpZTI",
        "outputId": "8984265f-ac30-4007-9761-66d48285fc22"
      },
      "execution_count": 21,
      "outputs": [
        {
          "output_type": "stream",
          "name": "stdout",
          "text": [
            "['atendra', 'stendra', 'saendra', 'satndra', 'satedra', 'satenra', 'satenda', 'satendr']\n"
          ]
        }
      ]
    },
    {
      "cell_type": "code",
      "source": [
        "def swap(word):\n",
        "  return [l + r[1] + r[0] + r[2:] for l,r in split(word) if len(r)>1]"
      ],
      "metadata": {
        "id": "hfkOxGLeqRFd"
      },
      "execution_count": 22,
      "outputs": []
    },
    {
      "cell_type": "code",
      "source": [
        "print(swap(\"satendra\"))"
      ],
      "metadata": {
        "colab": {
          "base_uri": "https://localhost:8080/"
        },
        "id": "sTiGzfpeqgTo",
        "outputId": "7005c661-3546-4620-df78-71b17cf0512d"
      },
      "execution_count": 23,
      "outputs": [
        {
          "output_type": "stream",
          "name": "stdout",
          "text": [
            "['astendra', 'staendra', 'saetndra', 'satnedra', 'satednra', 'satenrda', 'satendar']\n"
          ]
        }
      ]
    },
    {
      "cell_type": "code",
      "source": [
        "def replace(word):\n",
        "  letters = string.ascii_lowercase\n",
        "  return [l + c + r[1:] for l,r in split(word) if r for c in letters]"
      ],
      "metadata": {
        "id": "BXhmmtxPqnZz"
      },
      "execution_count": 28,
      "outputs": []
    },
    {
      "cell_type": "code",
      "source": [
        "print(replace(\"satendra\"))"
      ],
      "metadata": {
        "colab": {
          "base_uri": "https://localhost:8080/"
        },
        "id": "aeYNl1_Qqroo",
        "outputId": "5e53b21c-0e8e-4995-dd37-84fc5eafa5b5"
      },
      "execution_count": 29,
      "outputs": [
        {
          "output_type": "stream",
          "name": "stdout",
          "text": [
            "['aatendra', 'batendra', 'catendra', 'datendra', 'eatendra', 'fatendra', 'gatendra', 'hatendra', 'iatendra', 'jatendra', 'katendra', 'latendra', 'matendra', 'natendra', 'oatendra', 'patendra', 'qatendra', 'ratendra', 'satendra', 'tatendra', 'uatendra', 'vatendra', 'watendra', 'xatendra', 'yatendra', 'zatendra', 'satendra', 'sbtendra', 'sctendra', 'sdtendra', 'setendra', 'sftendra', 'sgtendra', 'shtendra', 'sitendra', 'sjtendra', 'sktendra', 'sltendra', 'smtendra', 'sntendra', 'sotendra', 'sptendra', 'sqtendra', 'srtendra', 'sstendra', 'sttendra', 'sutendra', 'svtendra', 'swtendra', 'sxtendra', 'sytendra', 'sztendra', 'saaendra', 'sabendra', 'sacendra', 'sadendra', 'saeendra', 'safendra', 'sagendra', 'sahendra', 'saiendra', 'sajendra', 'sakendra', 'salendra', 'samendra', 'sanendra', 'saoendra', 'sapendra', 'saqendra', 'sarendra', 'sasendra', 'satendra', 'sauendra', 'savendra', 'sawendra', 'saxendra', 'sayendra', 'sazendra', 'satandra', 'satbndra', 'satcndra', 'satdndra', 'satendra', 'satfndra', 'satgndra', 'sathndra', 'satindra', 'satjndra', 'satkndra', 'satlndra', 'satmndra', 'satnndra', 'satondra', 'satpndra', 'satqndra', 'satrndra', 'satsndra', 'sattndra', 'satundra', 'satvndra', 'satwndra', 'satxndra', 'satyndra', 'satzndra', 'sateadra', 'satebdra', 'satecdra', 'sateddra', 'sateedra', 'satefdra', 'sategdra', 'satehdra', 'sateidra', 'satejdra', 'satekdra', 'sateldra', 'satemdra', 'satendra', 'sateodra', 'satepdra', 'sateqdra', 'saterdra', 'satesdra', 'satetdra', 'sateudra', 'satevdra', 'satewdra', 'satexdra', 'sateydra', 'satezdra', 'satenara', 'satenbra', 'satencra', 'satendra', 'satenera', 'satenfra', 'satengra', 'satenhra', 'satenira', 'satenjra', 'satenkra', 'satenlra', 'satenmra', 'satennra', 'satenora', 'satenpra', 'satenqra', 'satenrra', 'satensra', 'satentra', 'satenura', 'satenvra', 'satenwra', 'satenxra', 'satenyra', 'satenzra', 'satendaa', 'satendba', 'satendca', 'satendda', 'satendea', 'satendfa', 'satendga', 'satendha', 'satendia', 'satendja', 'satendka', 'satendla', 'satendma', 'satendna', 'satendoa', 'satendpa', 'satendqa', 'satendra', 'satendsa', 'satendta', 'satendua', 'satendva', 'satendwa', 'satendxa', 'satendya', 'satendza', 'satendra', 'satendrb', 'satendrc', 'satendrd', 'satendre', 'satendrf', 'satendrg', 'satendrh', 'satendri', 'satendrj', 'satendrk', 'satendrl', 'satendrm', 'satendrn', 'satendro', 'satendrp', 'satendrq', 'satendrr', 'satendrs', 'satendrt', 'satendru', 'satendrv', 'satendrw', 'satendrx', 'satendry', 'satendrz']\n"
          ]
        }
      ]
    },
    {
      "cell_type": "code",
      "source": [
        "def insert(word):\n",
        "  letters = string.ascii_lowercase\n",
        "  return [l+c+ r for l,r in split(word) for c in letters]"
      ],
      "metadata": {
        "id": "FIX4w4pwrnux"
      },
      "execution_count": 30,
      "outputs": []
    },
    {
      "cell_type": "code",
      "source": [
        "print(insert(\"satendra\"))"
      ],
      "metadata": {
        "colab": {
          "base_uri": "https://localhost:8080/"
        },
        "id": "53at03rarxrh",
        "outputId": "6110aeb2-f777-4134-d57d-2f61f29c18f7"
      },
      "execution_count": 31,
      "outputs": [
        {
          "output_type": "stream",
          "name": "stdout",
          "text": [
            "['asatendra', 'bsatendra', 'csatendra', 'dsatendra', 'esatendra', 'fsatendra', 'gsatendra', 'hsatendra', 'isatendra', 'jsatendra', 'ksatendra', 'lsatendra', 'msatendra', 'nsatendra', 'osatendra', 'psatendra', 'qsatendra', 'rsatendra', 'ssatendra', 'tsatendra', 'usatendra', 'vsatendra', 'wsatendra', 'xsatendra', 'ysatendra', 'zsatendra', 'saatendra', 'sbatendra', 'scatendra', 'sdatendra', 'seatendra', 'sfatendra', 'sgatendra', 'shatendra', 'siatendra', 'sjatendra', 'skatendra', 'slatendra', 'smatendra', 'snatendra', 'soatendra', 'spatendra', 'sqatendra', 'sratendra', 'ssatendra', 'statendra', 'suatendra', 'svatendra', 'swatendra', 'sxatendra', 'syatendra', 'szatendra', 'saatendra', 'sabtendra', 'sactendra', 'sadtendra', 'saetendra', 'saftendra', 'sagtendra', 'sahtendra', 'saitendra', 'sajtendra', 'saktendra', 'saltendra', 'samtendra', 'santendra', 'saotendra', 'saptendra', 'saqtendra', 'sartendra', 'sastendra', 'sattendra', 'sautendra', 'savtendra', 'sawtendra', 'saxtendra', 'saytendra', 'saztendra', 'sataendra', 'satbendra', 'satcendra', 'satdendra', 'sateendra', 'satfendra', 'satgendra', 'sathendra', 'satiendra', 'satjendra', 'satkendra', 'satlendra', 'satmendra', 'satnendra', 'satoendra', 'satpendra', 'satqendra', 'satrendra', 'satsendra', 'sattendra', 'satuendra', 'satvendra', 'satwendra', 'satxendra', 'satyendra', 'satzendra', 'sateandra', 'satebndra', 'satecndra', 'satedndra', 'sateendra', 'satefndra', 'sategndra', 'satehndra', 'sateindra', 'satejndra', 'satekndra', 'satelndra', 'satemndra', 'satenndra', 'sateondra', 'satepndra', 'sateqndra', 'saterndra', 'satesndra', 'satetndra', 'sateundra', 'satevndra', 'satewndra', 'satexndra', 'sateyndra', 'satezndra', 'satenadra', 'satenbdra', 'satencdra', 'satenddra', 'satenedra', 'satenfdra', 'satengdra', 'satenhdra', 'satenidra', 'satenjdra', 'satenkdra', 'satenldra', 'satenmdra', 'satenndra', 'satenodra', 'satenpdra', 'satenqdra', 'satenrdra', 'satensdra', 'satentdra', 'satenudra', 'satenvdra', 'satenwdra', 'satenxdra', 'satenydra', 'satenzdra', 'satendara', 'satendbra', 'satendcra', 'satenddra', 'satendera', 'satendfra', 'satendgra', 'satendhra', 'satendira', 'satendjra', 'satendkra', 'satendlra', 'satendmra', 'satendnra', 'satendora', 'satendpra', 'satendqra', 'satendrra', 'satendsra', 'satendtra', 'satendura', 'satendvra', 'satendwra', 'satendxra', 'satendyra', 'satendzra', 'satendraa', 'satendrba', 'satendrca', 'satendrda', 'satendrea', 'satendrfa', 'satendrga', 'satendrha', 'satendria', 'satendrja', 'satendrka', 'satendrla', 'satendrma', 'satendrna', 'satendroa', 'satendrpa', 'satendrqa', 'satendrra', 'satendrsa', 'satendrta', 'satendrua', 'satendrva', 'satendrwa', 'satendrxa', 'satendrya', 'satendrza', 'satendraa', 'satendrab', 'satendrac', 'satendrad', 'satendrae', 'satendraf', 'satendrag', 'satendrah', 'satendrai', 'satendraj', 'satendrak', 'satendral', 'satendram', 'satendran', 'satendrao', 'satendrap', 'satendraq', 'satendrar', 'satendras', 'satendrat', 'satendrau', 'satendrav', 'satendraw', 'satendrax', 'satendray', 'satendraz']\n"
          ]
        }
      ]
    },
    {
      "cell_type": "code",
      "source": [
        "def level_one_edits(word):\n",
        "  return set(delete(word) + swap(word) + replace(word) + insert(word))"
      ],
      "metadata": {
        "id": "zRWtPUV1sCvg"
      },
      "execution_count": 35,
      "outputs": []
    },
    {
      "cell_type": "markdown",
      "source": [
        "**level_one_edits** checks for one error in one word."
      ],
      "metadata": {
        "id": "WtUxvhjnt6ey"
      }
    },
    {
      "cell_type": "code",
      "source": [
        "def level_two_edits(word):\n",
        "  return set(e2 for e1 in level_one_edits(word) for e2 in level_one_edits(e1))"
      ],
      "metadata": {
        "id": "jA1WgQDNssuY"
      },
      "execution_count": 39,
      "outputs": []
    },
    {
      "cell_type": "markdown",
      "source": [
        "**level_two_edits** checks for two errors in one word."
      ],
      "metadata": {
        "id": "D3C7kdAotrqy"
      }
    },
    {
      "cell_type": "code",
      "source": [
        "def correct_spelling(word, vocabulary, word_probabilities):\n",
        "  if word in vocabulary:\n",
        "    print(f\"{word} is Correctly Spelled\")\n",
        "    return\n",
        "  suggestion = level_one_edits(word) or level_two_edits(word) or [word]\n",
        "  best_guesses = [w for w in suggestion if w in vocabulary]\n",
        "  return [(w, word_probabilities[w]) for w in best_guesses]\n"
      ],
      "metadata": {
        "id": "IdBr5Qw9tLmp"
      },
      "execution_count": 42,
      "outputs": []
    },
    {
      "cell_type": "markdown",
      "source": [
        "-\\\n",
        "-\\\n",
        "-\\\n",
        "-\\\n",
        "-\\\n",
        "-\n",
        "\n",
        "\n",
        "\n",
        "\n",
        " Above function named **correct_spelling** works as following:\n",
        "\n",
        "\n",
        "*   First checks if the word is already in our dataset that contains the correct spellings then it will return that the spelling is already spelled correctly.\n",
        "*   **suggestion** stores *level_one_edit* and further edits\n",
        "*   **best_guesses** stores the words after edits that are also present in our dataset.\n",
        "*   lasty, we return words that we stored in *best_guesses* along with its probability.\n",
        "\n",
        "\n",
        "\n",
        "\n",
        "\n"
      ],
      "metadata": {
        "id": "s665E53fxEOF"
      }
    },
    {
      "cell_type": "markdown",
      "source": [
        "-\\\n",
        "-\\\n",
        "-\\\n",
        "-\\\n",
        "-\\\n",
        "-"
      ],
      "metadata": {
        "id": "XMqoc_w6yVyE"
      }
    },
    {
      "cell_type": "code",
      "source": [
        "Input_Word = \"mispelled\"\n",
        "guesses = correct_spelling(Input_Word, vocabs, word_probas)\n",
        "print(guesses)"
      ],
      "metadata": {
        "colab": {
          "base_uri": "https://localhost:8080/"
        },
        "id": "bdH3odpov28m",
        "outputId": "3e536255-9ce0-43a6-99a7-ff89f3aa87f8"
      },
      "execution_count": 68,
      "outputs": [
        {
          "output_type": "stream",
          "name": "stdout",
          "text": [
            "[('misspelled', 8.174287248132329e-07), ('dispelled', 8.174287248132329e-07)]\n"
          ]
        }
      ]
    }
  ]
}